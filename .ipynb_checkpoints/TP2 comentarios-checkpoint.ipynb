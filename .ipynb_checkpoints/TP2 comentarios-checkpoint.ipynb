{
 "cells": [
  {
   "cell_type": "markdown",
   "id": "4866b2a7-77f1-43c3-a021-6468ba38843d",
   "metadata": {},
   "source": [
    "1.a: \n",
    "Teníamos que eliminar los datos duplicados pero ademas queríamos saber cuantos datos duplicados había. Para eso creamos un aechivo sin los duplicados con el comando drop_duplicates(keep=first). Luego decidimos restar las longitudes de los dos archivos y así nos dimos cuenta que habíamoseliminado 10 datos. "
   ]
  },
  {
   "cell_type": "markdown",
   "id": "29eac227-794e-4b87-af95-da2c7995e8b6",
   "metadata": {},
   "source": [
    "1.b:\n",
    "Eliminamos las variables 'id', 'name', 'host_id', 'host_name', 'neighbourhood', 'last_review', 'room_type', 'neighbourhood_group' ya que considerabamos que no aportaban informacion relevante.\n"
   ]
  },
  {
   "cell_type": "code",
   "execution_count": null,
   "id": "34f1ebba-ce20-46d2-8690-7d1cbfe8c97f",
   "metadata": {},
   "outputs": [],
   "source": []
  },
  {
   "cell_type": "markdown",
   "id": "978bcdf9-b1ff-4810-b937-072e3fd551ba",
   "metadata": {},
   "source": [
    "2.1: Elegimos las variables para las que vamos a armar la matriz de correlación, creamos un subset y luego calculamos e imprimimos la matriz"
   ]
  },
  {
   "cell_type": "code",
   "execution_count": null,
   "id": "9db796e2-3dbd-4196-a411-4923f99d4773",
   "metadata": {},
   "outputs": [],
   "source": [
    "2.2:"
   ]
  }
 ],
 "metadata": {
  "kernelspec": {
   "display_name": "Python 3 (ipykernel)",
   "language": "python",
   "name": "python3"
  },
  "language_info": {
   "codemirror_mode": {
    "name": "ipython",
    "version": 3
   },
   "file_extension": ".py",
   "mimetype": "text/x-python",
   "name": "python",
   "nbconvert_exporter": "python",
   "pygments_lexer": "ipython3",
   "version": "3.11.7"
  }
 },
 "nbformat": 4,
 "nbformat_minor": 5
}
